{
 "cells": [
  {
   "cell_type": "code",
   "execution_count": 1,
   "id": "c069944a-c65a-40bf-a64c-c420a01868da",
   "metadata": {},
   "outputs": [],
   "source": [
    "import json\n",
    "import numpy as np\n",
    "import pandas as pd\n",
    "from sklearn.model_selection import train_test_split"
   ]
  },
  {
   "cell_type": "markdown",
   "id": "12bd9260-2297-4bfe-8b1e-d5d97a66068c",
   "metadata": {
    "jp-MarkdownHeadingCollapsed": true
   },
   "source": [
    "# Preprocess Data"
   ]
  },
  {
   "cell_type": "code",
   "execution_count": 2,
   "id": "7772bc98-8347-4827-b622-d7115525fcd4",
   "metadata": {},
   "outputs": [],
   "source": [
    "def json2df(json_path):\n",
    "    \"\"\"Loads scraped json data into a Pandas DF\n",
    "    \n",
    "    \"\"\"\n",
    "    # load data from json\n",
    "    with open(json_path) as f:\n",
    "        data = json.load(f)\n",
    "\n",
    "    # preprocess json data and convert to df\n",
    "    all_postings = []\n",
    "    for search_term in data:\n",
    "        all_postings.extend(data[search_term])\n",
    "    df = pd.DataFrame(all_postings)\n",
    "    \n",
    "    # drop duplicate postings by link\n",
    "    df = df.drop_duplicates(subset='url')\n",
    "    return df"
   ]
  },
  {
   "cell_type": "code",
   "execution_count": 3,
   "id": "bd65d370-1802-47e2-9581-c4a42f2e0d93",
   "metadata": {},
   "outputs": [],
   "source": [
    "def process_location(df):\n",
    "    df[\"city\"] = np.where(df.location.str.contains(\",\"), df.location.str.split(\",\").str.get(0).str.strip(), None)\n",
    "    df[\"province\"] = np.where(df.location.str.contains(\",\"), df.location.str.split(\",\").str.get(1).str.strip(), None)\n",
    "    df[\"country\"] = np.where(df.location == \"Canada\", \"Canada\", None)\n",
    "    province_list = [\"ON\", \"BC\", \"QC\", \"AB\", \"SK\", \"MB\", \"NS\", \"NB\", \"PE\", \"YT\", \"NL\"]\n",
    "    df.loc[df.province.isin(province_list), \"country\"] = \"Canada\"\n",
    "    df.loc[(df.province == \"Canada\") | ~(df.province.isin(province_list)), \"city\"] = None\n",
    "    df.loc[(df.province == \"Canada\") | ~(df.province.isin(province_list)), \"province\"] = None\n",
    "    df.loc[(df.province == \"Canada\") | ~(df.province.isin(province_list)), \"country\"] = \"Canada\"\n",
    "    df = df.drop(\"location\", axis=1)\n",
    "    return df"
   ]
  },
  {
   "cell_type": "code",
   "execution_count": 4,
   "id": "04eb9270-d5b1-4efa-a2c9-17bba829e022",
   "metadata": {},
   "outputs": [],
   "source": [
    "def process_num_applicants(df):\n",
    "    df.num_applicants = np.where(df.num_applicants.str.split(\" \").str.get(0).str.isdigit(), \n",
    "        df.num_applicants.str.split(\" \").str.get(0), df.num_applicants)\n",
    "    df.num_applicants = np.where(df.num_applicants.str.split(\" \").str.get(0) == \"Over\", 100, df.num_applicants)\n",
    "    df.num_applicants = df.num_applicants.astype(\"float64\")\n",
    "    return df"
   ]
  },
  {
   "cell_type": "code",
   "execution_count": 5,
   "id": "3fb9e28c-510e-457c-85e9-7fbb9b90c4e1",
   "metadata": {},
   "outputs": [],
   "source": [
    "def salary_string2annual(salary):\n",
    "    try:\n",
    "        amount = salary.split(\"/\")[0].split(\"$\")[-1].replace(\"$\", \"\")\n",
    "        if \"K\" in amount:\n",
    "            amount = amount.replace(\"K\", \"\")\n",
    "            amount = float(amount)*1000\n",
    "        amount = float(amount)\n",
    "        term = salary.split(\"/\")[1].split(\" \")[0]\n",
    "        if term == 'hr':\n",
    "            amount = amount*2000\n",
    "    except Exception as e:\n",
    "        #print(e)\n",
    "        amount = salary\n",
    "    return amount"
   ]
  },
  {
   "cell_type": "code",
   "execution_count": 6,
   "id": "119ee513-d033-48c2-9f6d-104a99844976",
   "metadata": {},
   "outputs": [],
   "source": [
    "def process_salary(df):\n",
    "    df.salary = np.where(df.salary.str.contains(\"$\", regex=False), df.salary, None)\n",
    "    salaries = []\n",
    "    for i in range(len(df)):\n",
    "        salary = df.iloc[i].salary\n",
    "        if salary is not None:\n",
    "            try:\n",
    "                if salary.count(\"$\") == 1:\n",
    "                    # the salary is not a range\n",
    "                    salaries.append(salary_string2annual(salary))\n",
    "                else:\n",
    "                    split_salary_string = salary.split(\" \")\n",
    "                    lower, upper = \"\", \"\"\n",
    "                    for word in split_salary_string:\n",
    "                        if \"$\" in word:\n",
    "                            if lower == \"\":\n",
    "                                lower = word\n",
    "                            else:\n",
    "                                upper = word\n",
    "                                break\n",
    "                    mean_amount = (salary_string2annual(lower) + salary_string2annual(upper))/2\n",
    "                    salaries.append(mean_amount)\n",
    "            except Exception as e:\n",
    "                print(e)\n",
    "                pass\n",
    "        else:\n",
    "            salaries.append(None)\n",
    "    df[\"annual_salary\"] = salaries\n",
    "    df = df.drop(\"salary\", axis=1)\n",
    "    return df"
   ]
  },
  {
   "cell_type": "code",
   "execution_count": 7,
   "id": "2dbd64a6-0c6c-4f1d-b42a-74968392e152",
   "metadata": {},
   "outputs": [],
   "source": [
    "def add_glassdoor_salaries(df, json_path):\n",
    "    with open(json_path) as f:\n",
    "        glassdoor_salaries = json.load(f)\n",
    "    annual_salaries = df.annual_salary.to_list()\n",
    "    for i in range(len(df)):\n",
    "        if pd.isnull(annual_salaries[i]):\n",
    "            url = df.iloc[i].url\n",
    "            if url in glassdoor_salaries:\n",
    "                annual_salaries[i] = glassdoor_salaries[url]\n",
    "    df.annual_salary = annual_salaries\n",
    "    df.annual_salary = df.annual_salary.astype('float64')\n",
    "    return df"
   ]
  },
  {
   "cell_type": "code",
   "execution_count": 8,
   "id": "af8ef427-6539-417a-a6bb-0461519d2fbe",
   "metadata": {},
   "outputs": [],
   "source": [
    "def preprocess_scraped_data(linkedin_json_path, glassdoor_json_path):\n",
    "    df = json2df(linkedin_json_path)\n",
    "    df = process_location(df)\n",
    "    df = process_num_applicants(df)\n",
    "    df = process_salary(df)\n",
    "    df = add_glassdoor_salaries(df, glassdoor_json_path)\n",
    "    df[\"job_title\"] = df.title\n",
    "    df = df.drop(\"title\", axis=1)\n",
    "    df = df[[\"job_title\", \"employer\", \"num_applicants\", \"annual_salary\", \"city\", \"province\", \"country\", \"description\", \"url\"]]\n",
    "    df.to_pickle(\"linkedin_scraped_posts_0407_processed.pkl\")"
   ]
  },
  {
   "cell_type": "code",
   "execution_count": 9,
   "id": "4db12fcf-e7c5-4e7c-a719-7e0c93314ffe",
   "metadata": {},
   "outputs": [],
   "source": [
    "preprocess_scraped_data(\"data/linkedin_scraped_posts_0407.json\", \"data/glassdoor_scraped_salaries_0407.json\")"
   ]
  },
  {
   "cell_type": "code",
   "execution_count": 10,
   "id": "466428f7-a106-4497-891d-70b226759cca",
   "metadata": {},
   "outputs": [],
   "source": [
    "df = pd.read_pickle(\"linkedin_scraped_posts_0407_processed.pkl\")"
   ]
  },
  {
   "cell_type": "code",
   "execution_count": 11,
   "id": "f417b37f-1074-4648-b724-29700b253664",
   "metadata": {},
   "outputs": [],
   "source": [
    "# drop title + employer duplicates\n",
    "df = df.drop_duplicates(subset=[\"job_title\", \"employer\"])"
   ]
  },
  {
   "cell_type": "code",
   "execution_count": 12,
   "id": "fb5d6459-43f4-42d8-a879-e4a0a91b1548",
   "metadata": {},
   "outputs": [
    {
     "data": {
      "text/html": [
       "<div>\n",
       "<style scoped>\n",
       "    .dataframe tbody tr th:only-of-type {\n",
       "        vertical-align: middle;\n",
       "    }\n",
       "\n",
       "    .dataframe tbody tr th {\n",
       "        vertical-align: top;\n",
       "    }\n",
       "\n",
       "    .dataframe thead th {\n",
       "        text-align: right;\n",
       "    }\n",
       "</style>\n",
       "<table border=\"1\" class=\"dataframe\">\n",
       "  <thead>\n",
       "    <tr style=\"text-align: right;\">\n",
       "      <th></th>\n",
       "      <th>job_title</th>\n",
       "      <th>employer</th>\n",
       "      <th>num_applicants</th>\n",
       "      <th>annual_salary</th>\n",
       "      <th>city</th>\n",
       "      <th>province</th>\n",
       "      <th>country</th>\n",
       "      <th>description</th>\n",
       "      <th>url</th>\n",
       "    </tr>\n",
       "  </thead>\n",
       "  <tbody>\n",
       "    <tr>\n",
       "      <th>387</th>\n",
       "      <td>Volunteer: Financial Analyst (Remote/Unpaid Vo...</td>\n",
       "      <td>VolunteerMatch</td>\n",
       "      <td>86.0</td>\n",
       "      <td>0.0</td>\n",
       "      <td>Calgary</td>\n",
       "      <td>AB</td>\n",
       "      <td>Canada</td>\n",
       "      <td>About the job\\nEmpowered Futures is a non-prof...</td>\n",
       "      <td>https://www.linkedin.com/jobs/view/3817534547/...</td>\n",
       "    </tr>\n",
       "    <tr>\n",
       "      <th>949</th>\n",
       "      <td>Software Engineer (Python) - Up to CAD$180k + ...</td>\n",
       "      <td>Hunter Bond</td>\n",
       "      <td>37.0</td>\n",
       "      <td>NaN</td>\n",
       "      <td>None</td>\n",
       "      <td>None</td>\n",
       "      <td>Canada</td>\n",
       "      <td>About the job\\nClient: \\nA prestigious technol...</td>\n",
       "      <td>https://www.linkedin.com/jobs/view/3882857588/...</td>\n",
       "    </tr>\n",
       "    <tr>\n",
       "      <th>975</th>\n",
       "      <td>Growth Hacker</td>\n",
       "      <td>Let's Roam</td>\n",
       "      <td>36.0</td>\n",
       "      <td>NaN</td>\n",
       "      <td>None</td>\n",
       "      <td>None</td>\n",
       "      <td>Canada</td>\n",
       "      <td>About the job\\nGrowth Marketing &amp; Product Inno...</td>\n",
       "      <td>https://www.linkedin.com/jobs/view/3862563221/...</td>\n",
       "    </tr>\n",
       "    <tr>\n",
       "      <th>1021</th>\n",
       "      <td>MLOps Software Engineer - Elite AI Team - Up t...</td>\n",
       "      <td>Hunter Bond</td>\n",
       "      <td>27.0</td>\n",
       "      <td>NaN</td>\n",
       "      <td>Montreal</td>\n",
       "      <td>QC</td>\n",
       "      <td>Canada</td>\n",
       "      <td>About the job\\nJob Title: MLOps Software Engin...</td>\n",
       "      <td>https://www.linkedin.com/jobs/view/3879743623/...</td>\n",
       "    </tr>\n",
       "  </tbody>\n",
       "</table>\n",
       "</div>"
      ],
      "text/plain": [
       "                                              job_title        employer  \\\n",
       "387   Volunteer: Financial Analyst (Remote/Unpaid Vo...  VolunteerMatch   \n",
       "949   Software Engineer (Python) - Up to CAD$180k + ...     Hunter Bond   \n",
       "975                                       Growth Hacker      Let's Roam   \n",
       "1021  MLOps Software Engineer - Elite AI Team - Up t...     Hunter Bond   \n",
       "\n",
       "      num_applicants  annual_salary      city province country  \\\n",
       "387             86.0            0.0   Calgary       AB  Canada   \n",
       "949             37.0            NaN      None     None  Canada   \n",
       "975             36.0            NaN      None     None  Canada   \n",
       "1021            27.0            NaN  Montreal       QC  Canada   \n",
       "\n",
       "                                            description  \\\n",
       "387   About the job\\nEmpowered Futures is a non-prof...   \n",
       "949   About the job\\nClient: \\nA prestigious technol...   \n",
       "975   About the job\\nGrowth Marketing & Product Inno...   \n",
       "1021  About the job\\nJob Title: MLOps Software Engin...   \n",
       "\n",
       "                                                    url  \n",
       "387   https://www.linkedin.com/jobs/view/3817534547/...  \n",
       "949   https://www.linkedin.com/jobs/view/3882857588/...  \n",
       "975   https://www.linkedin.com/jobs/view/3862563221/...  \n",
       "1021  https://www.linkedin.com/jobs/view/3879743623/...  "
      ]
     },
     "execution_count": 12,
     "metadata": {},
     "output_type": "execute_result"
    }
   ],
   "source": [
    "# check jobs missing salaries\n",
    "df[~(df.annual_salary > 0)]"
   ]
  },
  {
   "cell_type": "code",
   "execution_count": 13,
   "id": "c8264ff8-63ef-43b3-91ff-35e69b00b9ab",
   "metadata": {},
   "outputs": [
    {
     "data": {
      "text/plain": [
       "'Software Engineer (Python) - Up to CAD$180k + Huge Bonus Montreal'"
      ]
     },
     "metadata": {},
     "output_type": "display_data"
    },
    {
     "data": {
      "text/plain": [
       "'Growth Hacker'"
      ]
     },
     "metadata": {},
     "output_type": "display_data"
    },
    {
     "data": {
      "text/plain": [
       "'MLOps Software Engineer - Elite AI Team - Up to $140k CAD + Bonus'"
      ]
     },
     "metadata": {},
     "output_type": "display_data"
    }
   ],
   "source": [
    "display(df.loc[949].job_title)\n",
    "display(df.loc[975].job_title)\n",
    "display(df.loc[1021].job_title)"
   ]
  },
  {
   "cell_type": "code",
   "execution_count": 14,
   "id": "af3b5e39-4540-4654-9955-392b9a53462e",
   "metadata": {},
   "outputs": [],
   "source": [
    "# update salaries based on title and glassdoor search\n",
    "df.loc[949, \"annual_salary\"] = 180000\n",
    "df.loc[975, \"annual_salary\"] = 55000\n",
    "df.loc[1021, \"annual_salary\"] = 140000"
   ]
  },
  {
   "cell_type": "code",
   "execution_count": 15,
   "id": "f84b4765-da77-4d48-b343-97574f5add94",
   "metadata": {},
   "outputs": [],
   "source": [
    "# remove volunteer position to avoid outliers\n",
    "df = df.drop(387)"
   ]
  },
  {
   "cell_type": "code",
   "execution_count": 16,
   "id": "634488f0-431b-4838-9ad5-958f9d3d3999",
   "metadata": {},
   "outputs": [
    {
     "data": {
      "text/html": [
       "<div>\n",
       "<style scoped>\n",
       "    .dataframe tbody tr th:only-of-type {\n",
       "        vertical-align: middle;\n",
       "    }\n",
       "\n",
       "    .dataframe tbody tr th {\n",
       "        vertical-align: top;\n",
       "    }\n",
       "\n",
       "    .dataframe thead th {\n",
       "        text-align: right;\n",
       "    }\n",
       "</style>\n",
       "<table border=\"1\" class=\"dataframe\">\n",
       "  <thead>\n",
       "    <tr style=\"text-align: right;\">\n",
       "      <th></th>\n",
       "      <th>job_title</th>\n",
       "      <th>employer</th>\n",
       "      <th>num_applicants</th>\n",
       "      <th>annual_salary</th>\n",
       "      <th>city</th>\n",
       "      <th>province</th>\n",
       "      <th>country</th>\n",
       "      <th>description</th>\n",
       "      <th>url</th>\n",
       "    </tr>\n",
       "  </thead>\n",
       "  <tbody>\n",
       "  </tbody>\n",
       "</table>\n",
       "</div>"
      ],
      "text/plain": [
       "Empty DataFrame\n",
       "Columns: [job_title, employer, num_applicants, annual_salary, city, province, country, description, url]\n",
       "Index: []"
      ]
     },
     "execution_count": 16,
     "metadata": {},
     "output_type": "execute_result"
    }
   ],
   "source": [
    "df[~(df.annual_salary > 0)]"
   ]
  },
  {
   "cell_type": "code",
   "execution_count": 17,
   "id": "b0001294-357f-408d-a8b5-05f0d6a91819",
   "metadata": {},
   "outputs": [
    {
     "name": "stdout",
     "output_type": "stream",
     "text": [
      "596\n"
     ]
    }
   ],
   "source": [
    "df = df.reset_index()\n",
    "df = df.drop('index', axis=1)\n",
    "print(len(df))"
   ]
  },
  {
   "cell_type": "markdown",
   "id": "09f0aa1f-1cf5-408d-9008-5313fc13d877",
   "metadata": {},
   "source": [
    "# Analysis and Feature Engineering"
   ]
  },
  {
   "cell_type": "code",
   "execution_count": 18,
   "id": "158b7298-466b-4a87-a84c-4785d3cc9b08",
   "metadata": {},
   "outputs": [
    {
     "data": {
      "text/html": [
       "<div>\n",
       "<style scoped>\n",
       "    .dataframe tbody tr th:only-of-type {\n",
       "        vertical-align: middle;\n",
       "    }\n",
       "\n",
       "    .dataframe tbody tr th {\n",
       "        vertical-align: top;\n",
       "    }\n",
       "\n",
       "    .dataframe thead th {\n",
       "        text-align: right;\n",
       "    }\n",
       "</style>\n",
       "<table border=\"1\" class=\"dataframe\">\n",
       "  <thead>\n",
       "    <tr style=\"text-align: right;\">\n",
       "      <th></th>\n",
       "      <th>job_title</th>\n",
       "      <th>employer</th>\n",
       "      <th>num_applicants</th>\n",
       "      <th>annual_salary</th>\n",
       "      <th>city</th>\n",
       "      <th>province</th>\n",
       "      <th>country</th>\n",
       "      <th>description</th>\n",
       "      <th>url</th>\n",
       "    </tr>\n",
       "  </thead>\n",
       "  <tbody>\n",
       "    <tr>\n",
       "      <th>0</th>\n",
       "      <td>Senior Data Scientist</td>\n",
       "      <td>Akkodis</td>\n",
       "      <td>76.0</td>\n",
       "      <td>118000.0</td>\n",
       "      <td>Toronto</td>\n",
       "      <td>ON</td>\n",
       "      <td>Canada</td>\n",
       "      <td>About the job\\nHi Candidate\\nI hope you are do...</td>\n",
       "      <td>https://www.linkedin.com/jobs/view/3881928212/...</td>\n",
       "    </tr>\n",
       "    <tr>\n",
       "      <th>1</th>\n",
       "      <td>Lead Data Scientist/Machine Learning Engineer ...</td>\n",
       "      <td>Agoda</td>\n",
       "      <td>41.0</td>\n",
       "      <td>132000.0</td>\n",
       "      <td>Toronto</td>\n",
       "      <td>ON</td>\n",
       "      <td>Canada</td>\n",
       "      <td>About the job\\nAbout Agoda\\n\\nAgoda is an onli...</td>\n",
       "      <td>https://www.linkedin.com/jobs/view/3839799162/...</td>\n",
       "    </tr>\n",
       "    <tr>\n",
       "      <th>2</th>\n",
       "      <td>Practice Lead Data Scientist, Data Driven Mark...</td>\n",
       "      <td>Cogeco Connexion</td>\n",
       "      <td>41.0</td>\n",
       "      <td>120000.0</td>\n",
       "      <td>Montreal</td>\n",
       "      <td>QC</td>\n",
       "      <td>Canada</td>\n",
       "      <td>About the job\\nOur culture lifts you up—there ...</td>\n",
       "      <td>https://www.linkedin.com/jobs/view/3848292659/...</td>\n",
       "    </tr>\n",
       "    <tr>\n",
       "      <th>3</th>\n",
       "      <td>Senior Data Scientist</td>\n",
       "      <td>Clio - Cloud-Based Legal Technology</td>\n",
       "      <td>100.0</td>\n",
       "      <td>165000.0</td>\n",
       "      <td>None</td>\n",
       "      <td>None</td>\n",
       "      <td>Canada</td>\n",
       "      <td>About the job\\nClio is more than just a tech c...</td>\n",
       "      <td>https://www.linkedin.com/jobs/view/3827050664/...</td>\n",
       "    </tr>\n",
       "    <tr>\n",
       "      <th>4</th>\n",
       "      <td>Lead Data Scientist</td>\n",
       "      <td>Logikk</td>\n",
       "      <td>100.0</td>\n",
       "      <td>132000.0</td>\n",
       "      <td>Montreal</td>\n",
       "      <td>QC</td>\n",
       "      <td>Canada</td>\n",
       "      <td>About the job\\nLead Data Scientist - Leading A...</td>\n",
       "      <td>https://www.linkedin.com/jobs/view/3865773248/...</td>\n",
       "    </tr>\n",
       "  </tbody>\n",
       "</table>\n",
       "</div>"
      ],
      "text/plain": [
       "                                           job_title  \\\n",
       "0                              Senior Data Scientist   \n",
       "1  Lead Data Scientist/Machine Learning Engineer ...   \n",
       "2  Practice Lead Data Scientist, Data Driven Mark...   \n",
       "3                              Senior Data Scientist   \n",
       "4                                Lead Data Scientist   \n",
       "\n",
       "                              employer  num_applicants  annual_salary  \\\n",
       "0                              Akkodis            76.0       118000.0   \n",
       "1                                Agoda            41.0       132000.0   \n",
       "2                     Cogeco Connexion            41.0       120000.0   \n",
       "3  Clio - Cloud-Based Legal Technology           100.0       165000.0   \n",
       "4                               Logikk           100.0       132000.0   \n",
       "\n",
       "       city province country  \\\n",
       "0   Toronto       ON  Canada   \n",
       "1   Toronto       ON  Canada   \n",
       "2  Montreal       QC  Canada   \n",
       "3      None     None  Canada   \n",
       "4  Montreal       QC  Canada   \n",
       "\n",
       "                                         description  \\\n",
       "0  About the job\\nHi Candidate\\nI hope you are do...   \n",
       "1  About the job\\nAbout Agoda\\n\\nAgoda is an onli...   \n",
       "2  About the job\\nOur culture lifts you up—there ...   \n",
       "3  About the job\\nClio is more than just a tech c...   \n",
       "4  About the job\\nLead Data Scientist - Leading A...   \n",
       "\n",
       "                                                 url  \n",
       "0  https://www.linkedin.com/jobs/view/3881928212/...  \n",
       "1  https://www.linkedin.com/jobs/view/3839799162/...  \n",
       "2  https://www.linkedin.com/jobs/view/3848292659/...  \n",
       "3  https://www.linkedin.com/jobs/view/3827050664/...  \n",
       "4  https://www.linkedin.com/jobs/view/3865773248/...  "
      ]
     },
     "execution_count": 18,
     "metadata": {},
     "output_type": "execute_result"
    }
   ],
   "source": [
    "df.head()"
   ]
  },
  {
   "cell_type": "code",
   "execution_count": 19,
   "id": "ffd14ae0-c03d-4b21-8860-5fdd97289bfc",
   "metadata": {},
   "outputs": [],
   "source": [
    "def cross_with_annual_salary(df, other_column, num_cuts):\n",
    "    percentiles = []\n",
    "    for i in range(num_cuts):\n",
    "        next_percentile = round(np.nanpercentile(df[other_column], i*100/(num_cuts)), 2)\n",
    "        if next_percentile not in percentiles:\n",
    "            percentiles.append(next_percentile)\n",
    "    percentiles.append(max(df[other_column]))\n",
    "\n",
    "    formatted_ranges, mean_salaries = [], []\n",
    "    for i in range(1, len(percentiles)):\n",
    "        if i != len(percentiles)-1:\n",
    "            formatted_ranges.append(f\"[{percentiles[i-1]}-{percentiles[i]})\")\n",
    "            mean_salaries.append(round(df[(df[other_column] >= percentiles[i-1]) & (df[other_column] < percentiles[i])].annual_salary.mean(), 2))\n",
    "        else:\n",
    "            formatted_ranges.append(f\"[{percentiles[i-1]}-{percentiles[i]}]\")\n",
    "            mean_salaries.append(round(df[(df[other_column] >= percentiles[i-1]) & (df[other_column] <= percentiles[i])].annual_salary.mean(), 2))\n",
    "    \n",
    "    display_df = pd.DataFrame()\n",
    "    display_df[other_column] = formatted_ranges\n",
    "    display_df[\"Mean Annual Salary\"] = mean_salaries\n",
    "    return display_df"
   ]
  },
  {
   "cell_type": "code",
   "execution_count": 20,
   "id": "0dfb9083-502a-45ef-862c-70b01910f0ef",
   "metadata": {},
   "outputs": [
    {
     "data": {
      "text/html": [
       "<div>\n",
       "<style scoped>\n",
       "    .dataframe tbody tr th:only-of-type {\n",
       "        vertical-align: middle;\n",
       "    }\n",
       "\n",
       "    .dataframe tbody tr th {\n",
       "        vertical-align: top;\n",
       "    }\n",
       "\n",
       "    .dataframe thead th {\n",
       "        text-align: right;\n",
       "    }\n",
       "</style>\n",
       "<table border=\"1\" class=\"dataframe\">\n",
       "  <thead>\n",
       "    <tr style=\"text-align: right;\">\n",
       "      <th></th>\n",
       "      <th>num_applicants</th>\n",
       "      <th>Mean Annual Salary</th>\n",
       "    </tr>\n",
       "  </thead>\n",
       "  <tbody>\n",
       "    <tr>\n",
       "      <th>0</th>\n",
       "      <td>[0.0-14.0)</td>\n",
       "      <td>87381.36</td>\n",
       "    </tr>\n",
       "    <tr>\n",
       "      <th>1</th>\n",
       "      <td>[14.0-29.0)</td>\n",
       "      <td>87416.43</td>\n",
       "    </tr>\n",
       "    <tr>\n",
       "      <th>2</th>\n",
       "      <td>[29.0-53.0)</td>\n",
       "      <td>87218.55</td>\n",
       "    </tr>\n",
       "    <tr>\n",
       "      <th>3</th>\n",
       "      <td>[53.0-81.0)</td>\n",
       "      <td>83020.83</td>\n",
       "    </tr>\n",
       "    <tr>\n",
       "      <th>4</th>\n",
       "      <td>[81.0-100.0)</td>\n",
       "      <td>94984.38</td>\n",
       "    </tr>\n",
       "    <tr>\n",
       "      <th>5</th>\n",
       "      <td>[100.0-100.0]</td>\n",
       "      <td>90964.22</td>\n",
       "    </tr>\n",
       "  </tbody>\n",
       "</table>\n",
       "</div>"
      ],
      "text/plain": [
       "  num_applicants  Mean Annual Salary\n",
       "0     [0.0-14.0)            87381.36\n",
       "1    [14.0-29.0)            87416.43\n",
       "2    [29.0-53.0)            87218.55\n",
       "3    [53.0-81.0)            83020.83\n",
       "4   [81.0-100.0)            94984.38\n",
       "5  [100.0-100.0]            90964.22"
      ]
     },
     "execution_count": 20,
     "metadata": {},
     "output_type": "execute_result"
    }
   ],
   "source": [
    "# salary by number of applicants\n",
    "cross_with_annual_salary(df, \"num_applicants\", 10)"
   ]
  },
  {
   "cell_type": "code",
   "execution_count": 21,
   "id": "50adc502-94ac-4862-aa55-0307a3aa62cf",
   "metadata": {},
   "outputs": [
    {
     "data": {
      "text/html": [
       "<div>\n",
       "<style scoped>\n",
       "    .dataframe tbody tr th:only-of-type {\n",
       "        vertical-align: middle;\n",
       "    }\n",
       "\n",
       "    .dataframe tbody tr th {\n",
       "        vertical-align: top;\n",
       "    }\n",
       "\n",
       "    .dataframe thead th {\n",
       "        text-align: right;\n",
       "    }\n",
       "</style>\n",
       "<table border=\"1\" class=\"dataframe\">\n",
       "  <thead>\n",
       "    <tr style=\"text-align: right;\">\n",
       "      <th></th>\n",
       "      <th>count</th>\n",
       "      <th>min</th>\n",
       "      <th>max</th>\n",
       "      <th>mean</th>\n",
       "    </tr>\n",
       "    <tr>\n",
       "      <th>city</th>\n",
       "      <th></th>\n",
       "      <th></th>\n",
       "      <th></th>\n",
       "      <th></th>\n",
       "    </tr>\n",
       "  </thead>\n",
       "  <tbody>\n",
       "    <tr>\n",
       "      <th>Toronto</th>\n",
       "      <td>129</td>\n",
       "      <td>50000.0</td>\n",
       "      <td>200000.0</td>\n",
       "      <td>91430.232558</td>\n",
       "    </tr>\n",
       "    <tr>\n",
       "      <th>Vancouver</th>\n",
       "      <td>76</td>\n",
       "      <td>35500.0</td>\n",
       "      <td>209000.0</td>\n",
       "      <td>87375.000000</td>\n",
       "    </tr>\n",
       "    <tr>\n",
       "      <th>Montreal</th>\n",
       "      <td>64</td>\n",
       "      <td>40000.0</td>\n",
       "      <td>154000.0</td>\n",
       "      <td>89071.093750</td>\n",
       "    </tr>\n",
       "    <tr>\n",
       "      <th>Calgary</th>\n",
       "      <td>34</td>\n",
       "      <td>37500.0</td>\n",
       "      <td>137500.0</td>\n",
       "      <td>82220.588235</td>\n",
       "    </tr>\n",
       "    <tr>\n",
       "      <th>Winnipeg</th>\n",
       "      <td>18</td>\n",
       "      <td>55000.0</td>\n",
       "      <td>128000.0</td>\n",
       "      <td>84805.555556</td>\n",
       "    </tr>\n",
       "    <tr>\n",
       "      <th>Mississauga</th>\n",
       "      <td>15</td>\n",
       "      <td>26000.0</td>\n",
       "      <td>200000.0</td>\n",
       "      <td>84766.666667</td>\n",
       "    </tr>\n",
       "    <tr>\n",
       "      <th>Markham</th>\n",
       "      <td>11</td>\n",
       "      <td>59000.0</td>\n",
       "      <td>123000.0</td>\n",
       "      <td>90909.090909</td>\n",
       "    </tr>\n",
       "    <tr>\n",
       "      <th>Ottawa</th>\n",
       "      <td>10</td>\n",
       "      <td>59000.0</td>\n",
       "      <td>200000.0</td>\n",
       "      <td>98000.000000</td>\n",
       "    </tr>\n",
       "    <tr>\n",
       "      <th>Regina</th>\n",
       "      <td>10</td>\n",
       "      <td>50000.0</td>\n",
       "      <td>91000.0</td>\n",
       "      <td>70300.000000</td>\n",
       "    </tr>\n",
       "    <tr>\n",
       "      <th>Edmonton</th>\n",
       "      <td>9</td>\n",
       "      <td>55000.0</td>\n",
       "      <td>130500.0</td>\n",
       "      <td>84333.333333</td>\n",
       "    </tr>\n",
       "  </tbody>\n",
       "</table>\n",
       "</div>"
      ],
      "text/plain": [
       "             count      min       max          mean\n",
       "city                                               \n",
       "Toronto        129  50000.0  200000.0  91430.232558\n",
       "Vancouver       76  35500.0  209000.0  87375.000000\n",
       "Montreal        64  40000.0  154000.0  89071.093750\n",
       "Calgary         34  37500.0  137500.0  82220.588235\n",
       "Winnipeg        18  55000.0  128000.0  84805.555556\n",
       "Mississauga     15  26000.0  200000.0  84766.666667\n",
       "Markham         11  59000.0  123000.0  90909.090909\n",
       "Ottawa          10  59000.0  200000.0  98000.000000\n",
       "Regina          10  50000.0   91000.0  70300.000000\n",
       "Edmonton         9  55000.0  130500.0  84333.333333"
      ]
     },
     "execution_count": 21,
     "metadata": {},
     "output_type": "execute_result"
    }
   ],
   "source": [
    "# salary by city\n",
    "df.groupby(\"city\").annual_salary.agg(['count', 'min', 'max', 'mean']).sort_values(by='count', ascending=False)[:10]"
   ]
  },
  {
   "cell_type": "code",
   "execution_count": 22,
   "id": "e5cd3b3b-f0c5-4208-91ef-7c3b1aeadbe8",
   "metadata": {},
   "outputs": [
    {
     "data": {
      "text/html": [
       "<div>\n",
       "<style scoped>\n",
       "    .dataframe tbody tr th:only-of-type {\n",
       "        vertical-align: middle;\n",
       "    }\n",
       "\n",
       "    .dataframe tbody tr th {\n",
       "        vertical-align: top;\n",
       "    }\n",
       "\n",
       "    .dataframe thead th {\n",
       "        text-align: right;\n",
       "    }\n",
       "</style>\n",
       "<table border=\"1\" class=\"dataframe\">\n",
       "  <thead>\n",
       "    <tr style=\"text-align: right;\">\n",
       "      <th></th>\n",
       "      <th>count</th>\n",
       "      <th>min</th>\n",
       "      <th>max</th>\n",
       "      <th>mean</th>\n",
       "    </tr>\n",
       "    <tr>\n",
       "      <th>province</th>\n",
       "      <th></th>\n",
       "      <th></th>\n",
       "      <th></th>\n",
       "      <th></th>\n",
       "    </tr>\n",
       "  </thead>\n",
       "  <tbody>\n",
       "    <tr>\n",
       "      <th>ON</th>\n",
       "      <td>205</td>\n",
       "      <td>26000.0</td>\n",
       "      <td>200000.0</td>\n",
       "      <td>89404.878049</td>\n",
       "    </tr>\n",
       "    <tr>\n",
       "      <th>QC</th>\n",
       "      <td>86</td>\n",
       "      <td>31000.0</td>\n",
       "      <td>154000.0</td>\n",
       "      <td>85587.790698</td>\n",
       "    </tr>\n",
       "    <tr>\n",
       "      <th>BC</th>\n",
       "      <td>104</td>\n",
       "      <td>35500.0</td>\n",
       "      <td>209000.0</td>\n",
       "      <td>85167.019231</td>\n",
       "    </tr>\n",
       "    <tr>\n",
       "      <th>MB</th>\n",
       "      <td>18</td>\n",
       "      <td>55000.0</td>\n",
       "      <td>128000.0</td>\n",
       "      <td>84805.555556</td>\n",
       "    </tr>\n",
       "    <tr>\n",
       "      <th>NB</th>\n",
       "      <td>3</td>\n",
       "      <td>59000.0</td>\n",
       "      <td>132000.0</td>\n",
       "      <td>83333.333333</td>\n",
       "    </tr>\n",
       "    <tr>\n",
       "      <th>AB</th>\n",
       "      <td>45</td>\n",
       "      <td>37500.0</td>\n",
       "      <td>137500.0</td>\n",
       "      <td>81422.222222</td>\n",
       "    </tr>\n",
       "    <tr>\n",
       "      <th>NS</th>\n",
       "      <td>3</td>\n",
       "      <td>57000.0</td>\n",
       "      <td>107000.0</td>\n",
       "      <td>79666.666667</td>\n",
       "    </tr>\n",
       "    <tr>\n",
       "      <th>SK</th>\n",
       "      <td>11</td>\n",
       "      <td>50000.0</td>\n",
       "      <td>91000.0</td>\n",
       "      <td>71409.090909</td>\n",
       "    </tr>\n",
       "    <tr>\n",
       "      <th>YT</th>\n",
       "      <td>1</td>\n",
       "      <td>36500.0</td>\n",
       "      <td>36500.0</td>\n",
       "      <td>36500.000000</td>\n",
       "    </tr>\n",
       "  </tbody>\n",
       "</table>\n",
       "</div>"
      ],
      "text/plain": [
       "          count      min       max          mean\n",
       "province                                        \n",
       "ON          205  26000.0  200000.0  89404.878049\n",
       "QC           86  31000.0  154000.0  85587.790698\n",
       "BC          104  35500.0  209000.0  85167.019231\n",
       "MB           18  55000.0  128000.0  84805.555556\n",
       "NB            3  59000.0  132000.0  83333.333333\n",
       "AB           45  37500.0  137500.0  81422.222222\n",
       "NS            3  57000.0  107000.0  79666.666667\n",
       "SK           11  50000.0   91000.0  71409.090909\n",
       "YT            1  36500.0   36500.0  36500.000000"
      ]
     },
     "execution_count": 22,
     "metadata": {},
     "output_type": "execute_result"
    }
   ],
   "source": [
    "# salary by province\n",
    "df.groupby(\"province\").annual_salary.agg(['count', 'min', 'max', 'mean']).sort_values(by='mean', ascending=False)[:10]"
   ]
  },
  {
   "cell_type": "code",
   "execution_count": 25,
   "id": "16de7b38-5172-4040-a79d-d31c557a383a",
   "metadata": {},
   "outputs": [
    {
     "data": {
      "text/plain": [
       "array(['Toronto', 'Montreal', None, 'Calgary', 'Waterloo', 'Oakville',\n",
       "       'Ottawa', 'Aurora', 'Surrey', 'Mississauga', 'Woodbridge',\n",
       "       'Winnipeg', 'Brampton', 'Vancouver', 'Markham', 'Bedford',\n",
       "       'Chiasson Office', 'Whitehorse', 'Regina', 'Dorval', 'Vaughan',\n",
       "       'Kelowna', 'Québec', 'Chalk River', 'Hull', 'Shawinigan',\n",
       "       'Hamilton', 'North Vancouver', 'Sainte-Anne-de-Bellevue',\n",
       "       'Edmonton', 'Metro Vancouver A', 'Halifax', 'Burlington',\n",
       "       'Boucherville', 'Acheson', 'Alberta Beach', 'Brunswick',\n",
       "       'Greater Vancouver', 'Dartmouth', 'Victoria', 'Gatineau',\n",
       "       'Burnaby', 'Sherbrooke', 'St. Jacobs', 'Guelph',\n",
       "       'Dollard-des-Ormeaux', 'Montréal-Est', 'Longueuil',\n",
       "       'Montréal-Ouest', 'Saskatoon', 'Richmond', 'New Westminster',\n",
       "       'Nelson', 'Blacks Harbour', 'Pointe-Claire', 'Bowmanville',\n",
       "       'Kanata', 'Scarborough', 'St-Hyacinthe', 'Laval'], dtype=object)"
      ]
     },
     "execution_count": 25,
     "metadata": {},
     "output_type": "execute_result"
    }
   ],
   "source": [
    "df.city.unique()"
   ]
  },
  {
   "cell_type": "code",
   "execution_count": 38,
   "id": "d8c7f88a-2dde-41b1-8060-7b0d429411f4",
   "metadata": {},
   "outputs": [
    {
     "name": "stdout",
     "output_type": "stream",
     "text": [
      "Toronto\n",
      "Montreal\n",
      "Calgary\n",
      "Waterloo\n",
      "Oakville\n",
      "Ottawa\n",
      "Aurora\n",
      "Surrey\n",
      "Mississauga\n",
      "Woodbridge\n",
      "Winnipeg\n",
      "Brampton\n",
      "Vancouver\n",
      "Markham\n",
      "Bedford\n",
      "Chiasson Office\n",
      "Whitehorse\n",
      "Regina\n",
      "Dorval\n",
      "Vaughan\n",
      "Kelowna\n",
      "Québec\n",
      "Chalk River\n",
      "Hull\n",
      "Shawinigan\n",
      "Hamilton\n",
      "North Vancouver\n",
      "Sainte-Anne-de-Bellevue\n",
      "Edmonton\n",
      "Metro Vancouver A\n",
      "Halifax\n",
      "Burlington\n",
      "Boucherville\n",
      "Acheson\n",
      "Alberta Beach\n",
      "Brunswick\n",
      "Greater Vancouver\n",
      "Dartmouth\n",
      "Victoria\n",
      "Gatineau\n",
      "Burnaby\n",
      "Sherbrooke\n",
      "St. Jacobs\n",
      "Guelph\n",
      "Dollard-des-Ormeaux\n",
      "Montréal-Est\n",
      "Longueuil\n",
      "Montréal-Ouest\n",
      "Saskatoon\n",
      "Richmond\n",
      "New Westminster\n",
      "Nelson\n",
      "Blacks Harbour\n",
      "Pointe-Claire\n",
      "Bowmanville\n",
      "Kanata\n",
      "Scarborough\n",
      "St-Hyacinthe\n",
      "Laval\n"
     ]
    }
   ],
   "source": [
    "# convert city and province into one hot encoding\n",
    "province_mapping = {}\n",
    "for p in df.province.unique():\n",
    "    if p is not None:\n",
    "        province_mapping[p] = len(province_mapping)\n",
    "city_mapping = {}\n",
    "for c in df.city.unique():\n",
    "    if c is not None:\n",
    "        city_mapping[c] = len(city_mapping)\n",
    "\n",
    "# save encodings\n",
    "with open(\"data/province_encoding.json\", \"w\") as f:\n",
    "    json.dump(province_mapping, f, indent=4)\n",
    "with open(\"data/city_encoding.json\", \"w\") as f:\n",
    "    json.dump(city_mapping, f, indent=4)\n",
    "\n",
    "# update df\n",
    "df[\"province_one_hot\"] = df.province.map(province_mapping)\n",
    "df[\"city_one_hot\"] = df.city.map(city_mapping)"
   ]
  },
  {
   "cell_type": "code",
   "execution_count": 37,
   "id": "ac7eedad-a5bf-4b2d-899b-1a313ee6d4ca",
   "metadata": {},
   "outputs": [
    {
     "data": {
      "text/plain": [
       "Toronto      129\n",
       "Vancouver     76\n",
       "Montreal      64\n",
       "Calgary       34\n",
       "Winnipeg      18\n",
       "Name: city, dtype: int64"
      ]
     },
     "execution_count": 37,
     "metadata": {},
     "output_type": "execute_result"
    }
   ],
   "source": [
    "df.city.value_counts()[:5]"
   ]
  },
  {
   "cell_type": "code",
   "execution_count": 35,
   "id": "d7b6d3f7-6362-4f31-a4a9-90b18461b780",
   "metadata": {},
   "outputs": [
    {
     "data": {
      "text/plain": [
       "0.0    205\n",
       "3.0    104\n",
       "1.0     86\n",
       "2.0     45\n",
       "4.0     18\n",
       "8.0     11\n",
       "5.0      3\n",
       "6.0      3\n",
       "7.0      1\n",
       "Name: province_one_hot, dtype: int64"
      ]
     },
     "execution_count": 35,
     "metadata": {},
     "output_type": "execute_result"
    }
   ],
   "source": [
    "df.province_one_hot.value_counts()"
   ]
  },
  {
   "cell_type": "code",
   "execution_count": null,
   "id": "54600800-fba4-41b7-90a9-dd39ca7208b1",
   "metadata": {},
   "outputs": [],
   "source": [
    "# check how different title pronouns impact salary\n",
    "def compare_titles(titles):\n",
    "    title_names, min, mean, max = [], [], [], []\n",
    "    for title in titles:\n",
    "        title_names.append(title)\n",
    "        subset = df[df.job_title.str.lower().str.contains('|'.join(titles[title]))]\n",
    "        min.append(\"$\" + str(subset.annual_salary.min()))\n",
    "        mean.append(\"$\" + str(round(subset.annual_salary.mean(), 2)))\n",
    "        max.append(\"$\" + str(subset.annual_salary.max()))\n",
    "    display_df = pd.DataFrame()\n",
    "    display_df[\"Job Title\"] = title_names\n",
    "    display_df[\"Min Annual Salary\"] = min\n",
    "    display_df[\"Mean Annual Salary\"] = mean\n",
    "    display_df[\"Max Annual Salary\"] = max\n",
    "    return display_df\n",
    "    \n",
    "titles = {\n",
    "    \"Junior\": [\"jr\", \"junior\"],\n",
    "    \"Intermediate\": [\"intermediate\"],\n",
    "    \"Average\": [\"\"],\n",
    "    \"Senior\": [\"sr\", \"senior\"],\n",
    "    \"Manager\": [\"manage\"],\n",
    "    \"Lead\": [\"lead\"],\n",
    "    \"Director\": [\"director\"],\n",
    "    \"Vice President\": [\"vp\"]\n",
    "}\n",
    "compare_titles(titles)"
   ]
  },
  {
   "cell_type": "code",
   "execution_count": null,
   "id": "42546d49-8520-4acc-a63a-d4bfa27e6f1f",
   "metadata": {},
   "outputs": [],
   "source": [
    "# check for keywords in title impact summary\n",
    "titles = {\n",
    "    \"Average\": [\"\"],\n",
    "    \"AI\": [\"ai\", \"ml\", \"machine learning\"],\n",
    "    \"Engineer\": [\"engineer\"],\n",
    "    \"Scientist\": [\"scientist\"],\n",
    "    \"Analyst\": [\"analyst\"],\n",
    "    \"Finance\": [\"financial\", \"finance\"]\n",
    "}\n",
    "compare_titles(titles)"
   ]
  },
  {
   "cell_type": "code",
   "execution_count": null,
   "id": "f1005f12-6477-46a4-9c3e-6822d5a5a140",
   "metadata": {},
   "outputs": [],
   "source": [
    "# add title pronouns and keywords as features\n",
    "df[\"is_junior\"] = np.where((df.job_title.str.lower().str.contains(\"jr\")) | (df.job_title.str.lower().str.contains(\"junior\")), 1, 0)\n",
    "df[\"is_intermediate\"] = np.where(df.job_title.str.lower().str.contains(\"intermediate\"), 1, 0)\n",
    "df[\"is_senior\"] = np.where((df.job_title.str.lower().str.contains(\"sr\")) | (df.job_title.str.lower().str.contains(\"senior\")), 1, 0)\n",
    "df[\"is_manager\"] = np.where(df.job_title.str.lower().str.contains(\"manage\"), 1, 0)\n",
    "df[\"is_lead\"] = np.where(df.job_title.str.lower().str.contains(\"lead\"), 1, 0)\n",
    "df[\"is_director\"] = np.where(df.job_title.str.lower().str.contains(\"director\"), 1, 0)\n",
    "df[\"is_vp\"] = np.where(df.job_title.str.lower().str.contains(\"vp\"), 1, 0)\n",
    "df[\"is_ai\"] = np.where((df.job_title.str.lower().str.contains(\"ai\")) | (df.job_title.str.lower().str.contains(\"ml\")) | (df.job_title.str.lower().str.contains(\"machine learning\")), 1, 0)\n",
    "df[\"is_engineer\"] = np.where(df.job_title.str.lower().str.contains(\"engineer\"), 1, 0)\n",
    "df[\"is_scientist\"] = np.where(df.job_title.str.lower().str.contains(\"scientist\"), 1, 0)\n",
    "df[\"is_analyst\"] = np.where(df.job_title.str.lower().str.contains(\"analyst\"), 1, 0)\n",
    "df[\"is_finance\"] = np.where((df.job_title.str.lower().str.contains(\"finance\")) | (df.job_title.str.lower().str.contains(\"financial\")), 1, 0)"
   ]
  },
  {
   "cell_type": "code",
   "execution_count": null,
   "id": "8d81eb57-a71f-4715-a674-a91569604ebd",
   "metadata": {},
   "outputs": [],
   "source": [
    "# find maximum number of years experience in description\n",
    "# and also number of different experiences required\n",
    "def parse_int(word):\n",
    "    word = word.split('-')[-1]\n",
    "    final_int = \"\"\n",
    "    for char in word:\n",
    "        if char.isnumeric():\n",
    "            final_int += char\n",
    "        elif len(final_int):\n",
    "            break\n",
    "    if not len(final_int):\n",
    "        final_int = -1\n",
    "    return int(final_int)\n",
    "\n",
    "years_experience, number_of_experiences = [], []\n",
    "for desc in df.description.tolist():\n",
    "    highest_years = None\n",
    "    num_experiences = 0\n",
    "    split = desc.lower().split('year')\n",
    "    if len(split) > 1:\n",
    "        for i, phrase in enumerate(split):\n",
    "            if 'experience' in phrase[-100:] or (i < len(split) - 1 and 'experience' in split[i+1][:100]):\n",
    "                split_phrase = phrase.strip().split(' ')\n",
    "                num_years = parse_int(split_phrase[-1])\n",
    "                if num_years > 0:\n",
    "                    num_experiences += 1\n",
    "                    if highest_years is None or num_years > highest_years:\n",
    "                        highest_years = num_years\n",
    "    years_experience.append(highest_years)\n",
    "    number_of_experiences.append(num_experiences)\n",
    "df['years_experience'] = years_experience\n",
    "df['number_of_experiences'] = number_of_experiences\n",
    "df.loc[df.years_experience > 15, 'years_experience'] = None"
   ]
  },
  {
   "cell_type": "code",
   "execution_count": null,
   "id": "aa5e122f-4066-4316-a81c-d103d31a32f7",
   "metadata": {},
   "outputs": [],
   "source": [
    "cross_with_annual_salary(df, \"years_experience\", 5)"
   ]
  },
  {
   "cell_type": "code",
   "execution_count": null,
   "id": "13222fdd-8f43-4571-87c1-455a79e02d98",
   "metadata": {},
   "outputs": [],
   "source": [
    "cross_with_annual_salary(df, \"number_of_experiences\", 10)"
   ]
  },
  {
   "cell_type": "code",
   "execution_count": null,
   "id": "e5c1ec07-5856-429c-b584-eeff63c6aa03",
   "metadata": {},
   "outputs": [],
   "source": [
    "df.head()"
   ]
  },
  {
   "cell_type": "markdown",
   "id": "db820ea1-83c1-4782-b3fe-9b6b7393eb7c",
   "metadata": {},
   "source": [
    "# Model Training"
   ]
  },
  {
   "cell_type": "code",
   "execution_count": null,
   "id": "82dbf193-9c62-4018-93ba-20d29c232409",
   "metadata": {},
   "outputs": [],
   "source": [
    "df.dtypes"
   ]
  },
  {
   "cell_type": "code",
   "execution_count": null,
   "id": "fee4f011-655f-45cb-9097-48f020a28345",
   "metadata": {},
   "outputs": [],
   "source": [
    "# clean dataset and split into train and test\n",
    "good_cols = []\n",
    "for col in df:\n",
    "    if df[col].dtype != \"object\":\n",
    "        good_cols.append(col)\n",
    "X = df[good_cols]"
   ]
  },
  {
   "cell_type": "code",
   "execution_count": null,
   "id": "49323510-7b65-48e7-8552-04b1dbdc14bb",
   "metadata": {},
   "outputs": [],
   "source": [
    "X"
   ]
  },
  {
   "cell_type": "code",
   "execution_count": null,
   "id": "07a6bab2-fe1e-409d-bbaa-b99b81171bfc",
   "metadata": {},
   "outputs": [],
   "source": []
  }
 ],
 "metadata": {
  "kernelspec": {
   "display_name": "Python 3 (ipykernel)",
   "language": "python",
   "name": "python3"
  },
  "language_info": {
   "codemirror_mode": {
    "name": "ipython",
    "version": 3
   },
   "file_extension": ".py",
   "mimetype": "text/x-python",
   "name": "python",
   "nbconvert_exporter": "python",
   "pygments_lexer": "ipython3",
   "version": "3.9.13"
  }
 },
 "nbformat": 4,
 "nbformat_minor": 5
}
